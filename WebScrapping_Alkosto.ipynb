{
 "cells": [
  {
   "cell_type": "markdown",
   "id": "26380846-7cf2-4e23-9654-99165c869501",
   "metadata": {},
   "source": [
    "# Web Scrapping - Tienda en Linea (Alkosto)"
   ]
  },
  {
   "cell_type": "markdown",
   "id": "904d2b68-05bf-4ed1-98c0-d863db81b494",
   "metadata": {},
   "source": [
    "Proyecto de web scrapping para obtener información de los artículos en Alkosto"
   ]
  },
  {
   "cell_type": "markdown",
   "id": "66e5d9a1-81d4-42a1-a027-70ced1f1ecae",
   "metadata": {},
   "source": [
    "## Importaciones "
   ]
  },
  {
   "cell_type": "code",
   "execution_count": 12,
   "id": "66958f4e-dc07-4cf7-af06-b17c2d911ce1",
   "metadata": {},
   "outputs": [],
   "source": [
    "from selenium import webdriver #Driver que me permite interactuar con el navegador\n",
    "from selenium.webdriver.common.by import By #Para extraer elementos de una pagina web\n",
    "from selenium.common.exceptions import NoSuchElementException\n",
    "import pandas as pd"
   ]
  },
  {
   "cell_type": "code",
   "execution_count": 13,
   "id": "82c25557-47ee-43f8-bd42-0ecd2240958a",
   "metadata": {},
   "outputs": [],
   "source": [
    "driver = webdriver.Chrome()"
   ]
  },
  {
   "cell_type": "code",
   "execution_count": 14,
   "id": "e2ce09e4-1e5d-4bd5-93b3-db38f9d371ad",
   "metadata": {},
   "outputs": [],
   "source": [
    "url = 'https://www.alkosto.com/search?text=neveras' # URL de la pagina de alkosto buscando 'neveras'\n",
    "driver.get(url)"
   ]
  },
  {
   "cell_type": "markdown",
   "id": "d9051703-7984-4349-9754-aeec3b5f1c66",
   "metadata": {},
   "source": [
    "## Extracción"
   ]
  },
  {
   "cell_type": "code",
   "execution_count": 15,
   "id": "57421f6d-71ba-4b35-b8c9-cb7552dc56e0",
   "metadata": {},
   "outputs": [],
   "source": [
    "li_elements = driver.find_elements(By.CSS_SELECTOR,'#js-hits li') #Encuentre todos los elementos a traves de un CSS SELECTOR donde los elementos li tengan un padre js-hits\n",
    "data = []"
   ]
  },
  {
   "cell_type": "code",
   "execution_count": 16,
   "id": "808fb386-35c5-45c0-bc97-8f3c89de139b",
   "metadata": {},
   "outputs": [
    {
     "data": {
      "text/plain": [
       "150"
      ]
     },
     "execution_count": 16,
     "metadata": {},
     "output_type": "execute_result"
    }
   ],
   "source": [
    "len(li_elements)"
   ]
  },
  {
   "cell_type": "code",
   "execution_count": 19,
   "id": "6e994b04-a586-4f30-a0aa-a5ee87190104",
   "metadata": {},
   "outputs": [],
   "source": [
    "for element in li_elements:\n",
    "    try:\n",
    "        titulo_element = element.find_element(By.TAG_NAME, 'h3')\n",
    "        precio_element = element.find_element(By.CLASS_NAME, 'price')\n",
    "        imagen_element = element.find_element(By.TAG_NAME, 'img').get_attribute('src')\n",
    "        data.append({\n",
    "            'Titulo': titulo_element.text,\n",
    "            'Precio': precio_element.text,\n",
    "            'Imagen': imagen_element\n",
    "        })\n",
    "    except NoSuchElementException:\n",
    "        pass"
   ]
  },
  {
   "cell_type": "markdown",
   "id": "359e7694-4146-4fa0-91f4-7a335e88bf47",
   "metadata": {},
   "source": [
    "## Guardar"
   ]
  },
  {
   "cell_type": "code",
   "execution_count": 21,
   "id": "724a6daa-dcfc-42d2-adb1-63dd89d9d2e4",
   "metadata": {},
   "outputs": [],
   "source": [
    "df = pd.DataFrame(data)"
   ]
  },
  {
   "cell_type": "code",
   "execution_count": 23,
   "id": "1267ca87-7da0-4f53-98e0-0dc4f6dbb151",
   "metadata": {},
   "outputs": [],
   "source": [
    "df.to_csv('neveras.csv')"
   ]
  },
  {
   "cell_type": "code",
   "execution_count": 24,
   "id": "39de6d65-60f1-4508-a69d-ff5d7e02d0e9",
   "metadata": {},
   "outputs": [],
   "source": [
    "driver.quit()"
   ]
  }
 ],
 "metadata": {
  "kernelspec": {
   "display_name": "Python 3 (ipykernel)",
   "language": "python",
   "name": "python3"
  },
  "language_info": {
   "codemirror_mode": {
    "name": "ipython",
    "version": 3
   },
   "file_extension": ".py",
   "mimetype": "text/x-python",
   "name": "python",
   "nbconvert_exporter": "python",
   "pygments_lexer": "ipython3",
   "version": "3.12.4"
  }
 },
 "nbformat": 4,
 "nbformat_minor": 5
}
